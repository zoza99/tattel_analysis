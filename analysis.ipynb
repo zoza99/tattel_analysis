{
 "cells": [
  {
   "cell_type": "code",
   "execution_count": 1,
   "id": "a784e8fd-6562-4d48-ba6f-70b7dde865e4",
   "metadata": {},
   "outputs": [],
   "source": [
    "import pandas as pd\n",
    "import seaborn as sns\n",
    "import matplotlib.pyplot as plt\n",
    "sns.set(rc={'figure.figsize':(16,6)}, style=\"whitegrid\")"
   ]
  },
  {
   "cell_type": "code",
   "execution_count": 2,
   "id": "22defc87-f140-4f91-bda9-9cbe2fdc595b",
   "metadata": {},
   "outputs": [],
   "source": [
    "data = pd.read_excel('data.xlsx', sheet_name='Sheet1')"
   ]
  },
  {
   "cell_type": "code",
   "execution_count": 3,
   "id": "4f6ab318-7ce1-4d2f-b0f9-9d0c106bcf44",
   "metadata": {},
   "outputs": [],
   "source": [
    "pd.options.display.float_format ='{:,.3f}'.format"
   ]
  },
  {
   "cell_type": "code",
   "execution_count": 4,
   "id": "d3f48ac3-6d43-4b88-90d5-9e6d77b2740b",
   "metadata": {},
   "outputs": [],
   "source": [
    "data.rename(columns={'ИД КЛИЕНТА': 'customer_id','РАЙОН':'region','ГОРОД':'city','ДАТА ЗАКЛЮЧЕНИЯ ДОГОВОРА':'date_conclusion',\n",
    "                 'ТЕКУЩИЙ СТАТУС КЛИЕНТА':'current_status','ОБЪЕМ ТРАФИКА':'traffic_volume','ПЕРИОД ТРАФИКА':'traffic_period',\n",
    "                  'ДАТА РАСТОРЖЕНИЯ ДОГОВОРА':'date_dissolution'}, inplace=True)"
   ]
  },
  {
   "cell_type": "code",
   "execution_count": 5,
   "id": "221c0d29-21a8-44f0-bf87-fa627535ca2b",
   "metadata": {},
   "outputs": [
    {
     "data": {
      "text/html": [
       "<div>\n",
       "<style scoped>\n",
       "    .dataframe tbody tr th:only-of-type {\n",
       "        vertical-align: middle;\n",
       "    }\n",
       "\n",
       "    .dataframe tbody tr th {\n",
       "        vertical-align: top;\n",
       "    }\n",
       "\n",
       "    .dataframe thead th {\n",
       "        text-align: right;\n",
       "    }\n",
       "</style>\n",
       "<table border=\"1\" class=\"dataframe\">\n",
       "  <thead>\n",
       "    <tr style=\"text-align: right;\">\n",
       "      <th></th>\n",
       "      <th>customer_id</th>\n",
       "      <th>region</th>\n",
       "      <th>city</th>\n",
       "      <th>date_conclusion</th>\n",
       "      <th>current_status</th>\n",
       "      <th>traffic_volume</th>\n",
       "      <th>traffic_period</th>\n",
       "      <th>date_dissolution</th>\n",
       "    </tr>\n",
       "  </thead>\n",
       "  <tbody>\n",
       "    <tr>\n",
       "      <th>0</th>\n",
       "      <td>1059697</td>\n",
       "      <td>г.Казань</td>\n",
       "      <td>г.Казань</td>\n",
       "      <td>2009-11-01 00:00:00</td>\n",
       "      <td>Активен</td>\n",
       "      <td>5.586</td>\n",
       "      <td>2018-08-01</td>\n",
       "      <td>-</td>\n",
       "    </tr>\n",
       "    <tr>\n",
       "      <th>1</th>\n",
       "      <td>1059971</td>\n",
       "      <td>г.Казань</td>\n",
       "      <td>г.Казань</td>\n",
       "      <td>2009-11-01 00:00:00</td>\n",
       "      <td>Активен</td>\n",
       "      <td>5.477</td>\n",
       "      <td>2018-08-01</td>\n",
       "      <td>-</td>\n",
       "    </tr>\n",
       "    <tr>\n",
       "      <th>2</th>\n",
       "      <td>1059773</td>\n",
       "      <td>г.Казань</td>\n",
       "      <td>г.Казань</td>\n",
       "      <td>2009-11-01 00:00:00</td>\n",
       "      <td>Активен</td>\n",
       "      <td>5.457</td>\n",
       "      <td>2018-08-01</td>\n",
       "      <td>-</td>\n",
       "    </tr>\n",
       "    <tr>\n",
       "      <th>3</th>\n",
       "      <td>1059869</td>\n",
       "      <td>г.Казань</td>\n",
       "      <td>г.Казань</td>\n",
       "      <td>2009-11-01 00:00:00</td>\n",
       "      <td>Активен</td>\n",
       "      <td>5.293</td>\n",
       "      <td>2018-08-01</td>\n",
       "      <td>-</td>\n",
       "    </tr>\n",
       "    <tr>\n",
       "      <th>4</th>\n",
       "      <td>1059521</td>\n",
       "      <td>г.Казань</td>\n",
       "      <td>г.Казань</td>\n",
       "      <td>2009-11-01 00:00:00</td>\n",
       "      <td>Активен</td>\n",
       "      <td>5.218</td>\n",
       "      <td>2018-08-01</td>\n",
       "      <td>-</td>\n",
       "    </tr>\n",
       "    <tr>\n",
       "      <th>...</th>\n",
       "      <td>...</td>\n",
       "      <td>...</td>\n",
       "      <td>...</td>\n",
       "      <td>...</td>\n",
       "      <td>...</td>\n",
       "      <td>...</td>\n",
       "      <td>...</td>\n",
       "      <td>...</td>\n",
       "    </tr>\n",
       "    <tr>\n",
       "      <th>320031</th>\n",
       "      <td>1280258</td>\n",
       "      <td>Мензелинский р-н</td>\n",
       "      <td>г.Мензелинск</td>\n",
       "      <td>2020-07-14 08:32:16</td>\n",
       "      <td>Активен</td>\n",
       "      <td>0.153</td>\n",
       "      <td>2018-08-01</td>\n",
       "      <td>-</td>\n",
       "    </tr>\n",
       "    <tr>\n",
       "      <th>320032</th>\n",
       "      <td>1311400</td>\n",
       "      <td>Нижнекамский р-н</td>\n",
       "      <td>пгт.Камские Поляны</td>\n",
       "      <td>2020-07-14 08:36:16</td>\n",
       "      <td>Активен</td>\n",
       "      <td>0.000</td>\n",
       "      <td>2018-08-01</td>\n",
       "      <td>-</td>\n",
       "    </tr>\n",
       "    <tr>\n",
       "      <th>320033</th>\n",
       "      <td>1009025</td>\n",
       "      <td>Актанышский р-н</td>\n",
       "      <td>с.Актаныш</td>\n",
       "      <td>2020-07-14 08:36:55</td>\n",
       "      <td>Активен</td>\n",
       "      <td>0.000</td>\n",
       "      <td>2018-08-01</td>\n",
       "      <td>-</td>\n",
       "    </tr>\n",
       "    <tr>\n",
       "      <th>320034</th>\n",
       "      <td>1274738</td>\n",
       "      <td>Лениногорский р-н</td>\n",
       "      <td>г.Лениногорск</td>\n",
       "      <td>2020-07-14 09:03:10</td>\n",
       "      <td>Активен</td>\n",
       "      <td>0.160</td>\n",
       "      <td>2018-08-01</td>\n",
       "      <td>-</td>\n",
       "    </tr>\n",
       "    <tr>\n",
       "      <th>320035</th>\n",
       "      <td>1233023</td>\n",
       "      <td>Елабужский р-н</td>\n",
       "      <td>г.Елабуга</td>\n",
       "      <td>2020-07-14 09:03:46</td>\n",
       "      <td>Активен</td>\n",
       "      <td>0.000</td>\n",
       "      <td>2018-08-01</td>\n",
       "      <td>-</td>\n",
       "    </tr>\n",
       "  </tbody>\n",
       "</table>\n",
       "<p>320036 rows × 8 columns</p>\n",
       "</div>"
      ],
      "text/plain": [
       "        customer_id             region                city  \\\n",
       "0           1059697           г.Казань            г.Казань   \n",
       "1           1059971           г.Казань            г.Казань   \n",
       "2           1059773           г.Казань            г.Казань   \n",
       "3           1059869           г.Казань            г.Казань   \n",
       "4           1059521           г.Казань            г.Казань   \n",
       "...             ...                ...                 ...   \n",
       "320031      1280258   Мензелинский р-н        г.Мензелинск   \n",
       "320032      1311400   Нижнекамский р-н  пгт.Камские Поляны   \n",
       "320033      1009025    Актанышский р-н           с.Актаныш   \n",
       "320034      1274738  Лениногорский р-н       г.Лениногорск   \n",
       "320035      1233023     Елабужский р-н           г.Елабуга   \n",
       "\n",
       "           date_conclusion current_status  traffic_volume traffic_period  \\\n",
       "0      2009-11-01 00:00:00        Активен           5.586     2018-08-01   \n",
       "1      2009-11-01 00:00:00        Активен           5.477     2018-08-01   \n",
       "2      2009-11-01 00:00:00        Активен           5.457     2018-08-01   \n",
       "3      2009-11-01 00:00:00        Активен           5.293     2018-08-01   \n",
       "4      2009-11-01 00:00:00        Активен           5.218     2018-08-01   \n",
       "...                    ...            ...             ...            ...   \n",
       "320031 2020-07-14 08:32:16        Активен           0.153     2018-08-01   \n",
       "320032 2020-07-14 08:36:16        Активен           0.000     2018-08-01   \n",
       "320033 2020-07-14 08:36:55        Активен           0.000     2018-08-01   \n",
       "320034 2020-07-14 09:03:10        Активен           0.160     2018-08-01   \n",
       "320035 2020-07-14 09:03:46        Активен           0.000     2018-08-01   \n",
       "\n",
       "       date_dissolution  \n",
       "0                     -  \n",
       "1                     -  \n",
       "2                     -  \n",
       "3                     -  \n",
       "4                     -  \n",
       "...                 ...  \n",
       "320031                -  \n",
       "320032                -  \n",
       "320033                -  \n",
       "320034                -  \n",
       "320035                -  \n",
       "\n",
       "[320036 rows x 8 columns]"
      ]
     },
     "execution_count": 5,
     "metadata": {},
     "output_type": "execute_result"
    }
   ],
   "source": [
    "data"
   ]
  },
  {
   "cell_type": "code",
   "execution_count": 6,
   "id": "0567f238-0a98-44ee-ad1e-b9a49e4549fd",
   "metadata": {},
   "outputs": [
    {
     "name": "stdout",
     "output_type": "stream",
     "text": [
      "<class 'pandas.core.frame.DataFrame'>\n",
      "RangeIndex: 320036 entries, 0 to 320035\n",
      "Data columns (total 8 columns):\n",
      " #   Column            Non-Null Count   Dtype         \n",
      "---  ------            --------------   -----         \n",
      " 0   customer_id       320036 non-null  int64         \n",
      " 1   region            320036 non-null  object        \n",
      " 2   city              320036 non-null  object        \n",
      " 3   date_conclusion   320036 non-null  datetime64[ns]\n",
      " 4   current_status    320036 non-null  object        \n",
      " 5   traffic_volume    320036 non-null  float64       \n",
      " 6   traffic_period    320036 non-null  datetime64[ns]\n",
      " 7   date_dissolution  320036 non-null  object        \n",
      "dtypes: datetime64[ns](2), float64(1), int64(1), object(4)\n",
      "memory usage: 19.5+ MB\n"
     ]
    }
   ],
   "source": [
    "data.info()"
   ]
  },
  {
   "cell_type": "code",
   "execution_count": 7,
   "id": "8cb8eb87-1ad3-41aa-a13f-4df359bebeea",
   "metadata": {
    "tags": []
   },
   "outputs": [
    {
     "data": {
      "text/html": [
       "<div>\n",
       "<style scoped>\n",
       "    .dataframe tbody tr th:only-of-type {\n",
       "        vertical-align: middle;\n",
       "    }\n",
       "\n",
       "    .dataframe tbody tr th {\n",
       "        vertical-align: top;\n",
       "    }\n",
       "\n",
       "    .dataframe thead th {\n",
       "        text-align: right;\n",
       "    }\n",
       "</style>\n",
       "<table border=\"1\" class=\"dataframe\">\n",
       "  <thead>\n",
       "    <tr style=\"text-align: right;\">\n",
       "      <th></th>\n",
       "      <th>customer_id</th>\n",
       "      <th>traffic_volume</th>\n",
       "    </tr>\n",
       "  </thead>\n",
       "  <tbody>\n",
       "    <tr>\n",
       "      <th>count</th>\n",
       "      <td>320,036.000</td>\n",
       "      <td>320,036.000</td>\n",
       "    </tr>\n",
       "    <tr>\n",
       "      <th>mean</th>\n",
       "      <td>1,166,463.875</td>\n",
       "      <td>39.465</td>\n",
       "    </tr>\n",
       "    <tr>\n",
       "      <th>std</th>\n",
       "      <td>94,877.504</td>\n",
       "      <td>59.310</td>\n",
       "    </tr>\n",
       "    <tr>\n",
       "      <th>min</th>\n",
       "      <td>1,000,156.000</td>\n",
       "      <td>0.000</td>\n",
       "    </tr>\n",
       "    <tr>\n",
       "      <th>25%</th>\n",
       "      <td>1,086,133.750</td>\n",
       "      <td>2.918</td>\n",
       "    </tr>\n",
       "    <tr>\n",
       "      <th>50%</th>\n",
       "      <td>1,166,142.500</td>\n",
       "      <td>20.659</td>\n",
       "    </tr>\n",
       "    <tr>\n",
       "      <th>75%</th>\n",
       "      <td>1,248,448.250</td>\n",
       "      <td>53.342</td>\n",
       "    </tr>\n",
       "    <tr>\n",
       "      <th>max</th>\n",
       "      <td>1,331,136.000</td>\n",
       "      <td>4,987.645</td>\n",
       "    </tr>\n",
       "  </tbody>\n",
       "</table>\n",
       "</div>"
      ],
      "text/plain": [
       "        customer_id  traffic_volume\n",
       "count   320,036.000     320,036.000\n",
       "mean  1,166,463.875          39.465\n",
       "std      94,877.504          59.310\n",
       "min   1,000,156.000           0.000\n",
       "25%   1,086,133.750           2.918\n",
       "50%   1,166,142.500          20.659\n",
       "75%   1,248,448.250          53.342\n",
       "max   1,331,136.000       4,987.645"
      ]
     },
     "execution_count": 7,
     "metadata": {},
     "output_type": "execute_result"
    }
   ],
   "source": [
    "data.describe() "
   ]
  },
  {
   "cell_type": "code",
   "execution_count": 8,
   "id": "071882de-ef0d-46b8-bcd7-de47aa4f06fd",
   "metadata": {
    "tags": []
   },
   "outputs": [],
   "source": [
    "data_group=data.copy() "
   ]
  },
  {
   "cell_type": "code",
   "execution_count": 9,
   "id": "3e3478bb-5d5d-4bab-9e8f-7efd193a7731",
   "metadata": {
    "tags": []
   },
   "outputs": [],
   "source": [
    "sort_city_sum_traffic=data_group[['city','traffic_volume']] \\\n",
    ".groupby(['city'],sort = True,as_index= False) \\\n",
    ".sum() \\\n",
    ".sort_values('traffic_volume',ascending=False) "
   ]
  },
  {
   "cell_type": "code",
   "execution_count": 10,
   "id": "e95bbf37-13f2-4e0e-bbbe-ee8f68bff00f",
   "metadata": {},
   "outputs": [
    {
     "data": {
      "text/html": [
       "<div>\n",
       "<style scoped>\n",
       "    .dataframe tbody tr th:only-of-type {\n",
       "        vertical-align: middle;\n",
       "    }\n",
       "\n",
       "    .dataframe tbody tr th {\n",
       "        vertical-align: top;\n",
       "    }\n",
       "\n",
       "    .dataframe thead th {\n",
       "        text-align: right;\n",
       "    }\n",
       "</style>\n",
       "<table border=\"1\" class=\"dataframe\">\n",
       "  <thead>\n",
       "    <tr style=\"text-align: right;\">\n",
       "      <th></th>\n",
       "      <th>traffic_volume</th>\n",
       "    </tr>\n",
       "  </thead>\n",
       "  <tbody>\n",
       "    <tr>\n",
       "      <th>count</th>\n",
       "      <td>140.000</td>\n",
       "    </tr>\n",
       "    <tr>\n",
       "      <th>mean</th>\n",
       "      <td>90,216.969</td>\n",
       "    </tr>\n",
       "    <tr>\n",
       "      <th>std</th>\n",
       "      <td>430,187.155</td>\n",
       "    </tr>\n",
       "    <tr>\n",
       "      <th>min</th>\n",
       "      <td>0.000</td>\n",
       "    </tr>\n",
       "    <tr>\n",
       "      <th>25%</th>\n",
       "      <td>333.714</td>\n",
       "    </tr>\n",
       "    <tr>\n",
       "      <th>50%</th>\n",
       "      <td>1,346.842</td>\n",
       "    </tr>\n",
       "    <tr>\n",
       "      <th>75%</th>\n",
       "      <td>10,239.356</td>\n",
       "    </tr>\n",
       "    <tr>\n",
       "      <th>max</th>\n",
       "      <td>4,417,295.050</td>\n",
       "    </tr>\n",
       "  </tbody>\n",
       "</table>\n",
       "</div>"
      ],
      "text/plain": [
       "       traffic_volume\n",
       "count         140.000\n",
       "mean       90,216.969\n",
       "std       430,187.155\n",
       "min             0.000\n",
       "25%           333.714\n",
       "50%         1,346.842\n",
       "75%        10,239.356\n",
       "max     4,417,295.050"
      ]
     },
     "execution_count": 10,
     "metadata": {},
     "output_type": "execute_result"
    }
   ],
   "source": [
    "sort_city_sum_traffic.describe()  # Объем трафика с 0"
   ]
  },
  {
   "cell_type": "code",
   "execution_count": 11,
   "id": "bb358b9a-0d27-4f83-9962-7a18bfd18701",
   "metadata": {
    "tags": []
   },
   "outputs": [],
   "source": [
    "data_filt_traf=data \\\n",
    ".query(\"current_status == 'Активен' & traffic_volume > 0\") \\\n",
    ".copy()"
   ]
  },
  {
   "cell_type": "code",
   "execution_count": 12,
   "id": "e870d936-1450-448a-850c-df3be96ffc4a",
   "metadata": {},
   "outputs": [],
   "source": [
    "data_test= data.query(\"traffic_volume < 0\")"
   ]
  },
  {
   "cell_type": "code",
   "execution_count": 13,
   "id": "f53e2661-b6cf-4fc6-9474-6278ebd54501",
   "metadata": {},
   "outputs": [
    {
     "data": {
      "text/html": [
       "<div>\n",
       "<style scoped>\n",
       "    .dataframe tbody tr th:only-of-type {\n",
       "        vertical-align: middle;\n",
       "    }\n",
       "\n",
       "    .dataframe tbody tr th {\n",
       "        vertical-align: top;\n",
       "    }\n",
       "\n",
       "    .dataframe thead th {\n",
       "        text-align: right;\n",
       "    }\n",
       "</style>\n",
       "<table border=\"1\" class=\"dataframe\">\n",
       "  <thead>\n",
       "    <tr style=\"text-align: right;\">\n",
       "      <th></th>\n",
       "      <th>customer_id</th>\n",
       "      <th>traffic_volume</th>\n",
       "    </tr>\n",
       "  </thead>\n",
       "  <tbody>\n",
       "    <tr>\n",
       "      <th>count</th>\n",
       "      <td>268,728.000</td>\n",
       "      <td>268,728.000</td>\n",
       "    </tr>\n",
       "    <tr>\n",
       "      <th>mean</th>\n",
       "      <td>1,166,894.237</td>\n",
       "      <td>46.898</td>\n",
       "    </tr>\n",
       "    <tr>\n",
       "      <th>std</th>\n",
       "      <td>94,992.563</td>\n",
       "      <td>61.955</td>\n",
       "    </tr>\n",
       "    <tr>\n",
       "      <th>min</th>\n",
       "      <td>1,000,156.000</td>\n",
       "      <td>0.000</td>\n",
       "    </tr>\n",
       "    <tr>\n",
       "      <th>25%</th>\n",
       "      <td>1,087,017.750</td>\n",
       "      <td>9.903</td>\n",
       "    </tr>\n",
       "    <tr>\n",
       "      <th>50%</th>\n",
       "      <td>1,167,930.500</td>\n",
       "      <td>28.683</td>\n",
       "    </tr>\n",
       "    <tr>\n",
       "      <th>75%</th>\n",
       "      <td>1,249,197.250</td>\n",
       "      <td>61.644</td>\n",
       "    </tr>\n",
       "    <tr>\n",
       "      <th>max</th>\n",
       "      <td>1,331,136.000</td>\n",
       "      <td>4,987.645</td>\n",
       "    </tr>\n",
       "  </tbody>\n",
       "</table>\n",
       "</div>"
      ],
      "text/plain": [
       "        customer_id  traffic_volume\n",
       "count   268,728.000     268,728.000\n",
       "mean  1,166,894.237          46.898\n",
       "std      94,992.563          61.955\n",
       "min   1,000,156.000           0.000\n",
       "25%   1,087,017.750           9.903\n",
       "50%   1,167,930.500          28.683\n",
       "75%   1,249,197.250          61.644\n",
       "max   1,331,136.000       4,987.645"
      ]
     },
     "execution_count": 13,
     "metadata": {},
     "output_type": "execute_result"
    }
   ],
   "source": [
    "  data_filt_traf.describe() # Объем трафика без 0 трафика и без активных статусов "
   ]
  },
  {
   "cell_type": "code",
   "execution_count": 14,
   "id": "6167d7e1-ab3f-4610-882e-0a4962a36ac5",
   "metadata": {},
   "outputs": [],
   "source": [
    "data_null_traf=data \\\n",
    ".query(\"traffic_volume == 0\") \\\n",
    ".copy()  # информация по нулевому трафику"
   ]
  },
  {
   "cell_type": "code",
   "execution_count": 28,
   "id": "8737b90c-e2fa-442f-b337-9b7670f56ce8",
   "metadata": {},
   "outputs": [
    {
     "data": {
      "text/plain": [
       "count   44,624.000\n",
       "mean         0.000\n",
       "std          0.000\n",
       "min          0.000\n",
       "25%          0.000\n",
       "50%          0.000\n",
       "75%          0.000\n",
       "max          0.000\n",
       "Name: traffic_volume, dtype: float64"
      ]
     },
     "execution_count": 28,
     "metadata": {},
     "output_type": "execute_result"
    }
   ],
   "source": [
    "data_null_traf.traffic_volume.describe()"
   ]
  },
  {
   "cell_type": "code",
   "execution_count": 42,
   "id": "4a7f2ef2-9371-4ac8-902d-bf1b98c12fff",
   "metadata": {},
   "outputs": [],
   "source": [
    "data_null_traf_count=data_null_traf.groupby('city',as_index=False) \\\n",
    ".agg({'customer_id': 'count'}) \\\n",
    ".rename(columns={\"customer_id\":'count_city'}) \\\n",
    ".sort_values('count_city',ascending=False) \\\n",
    ".head(12)   # статистика по городам по нулевому трафику"
   ]
  },
  {
   "cell_type": "code",
   "execution_count": 43,
   "id": "a0aac3d2-3091-4154-a171-b67a05284b0d",
   "metadata": {},
   "outputs": [
    {
     "data": {
      "image/png": "[encoded data removed]",
      "text/plain": [
       "<Figure size 1152x432 with 1 Axes>"
      ]
     },
     "metadata": {},
     "output_type": "display_data"
    }
   ],
   "source": [
    "city_graf=sns.barplot(x=\"city\", y=\"count_city\",data=data_null_traf_count)"
   ]
  },
  {
   "cell_type": "code",
   "execution_count": 18,
   "id": "57f76198-f5f0-466d-928b-5e9debd70e6d",
   "metadata": {},
   "outputs": [],
   "source": [
    "data_null_traf_count"
   ]
  },
  {
   "cell_type": "code",
   "execution_count": 18,
   "id": "179b1a94-a628-4d4f-bb1f-404042f69837",
   "metadata": {},
   "outputs": [],
   "source": [
    "sity_count=data['city'].value_counts().head(12)  # Аналитика по колличеству пользователей по городам"
   ]
  },
  {
   "cell_type": "code",
   "execution_count": 21,
   "id": "81c57575-f50a-46ca-8a02-32aa2a52db57",
   "metadata": {},
   "outputs": [
    {
     "data": {
      "text/plain": [
       "г.Казань              113797\n",
       "г.Набережные Челны     49408\n",
       "г.Нижнекамск           27876\n",
       "г.Альметьевск          22712\n",
       "г.Зеленодольск         20146\n",
       "г.Бугульма             14354\n",
       "г.Лениногорск          11382\n",
       "г.Елабуга               8381\n",
       "г.Чистополь             6942\n",
       "г.Азнакаево             4985\n",
       "с.Ново-Шигалеево        3246\n",
       "г.Нурлат                2844\n",
       "Name: city, dtype: int64"
      ]
     },
     "execution_count": 21,
     "metadata": {},
     "output_type": "execute_result"
    }
   ],
   "source": [
    "sity_count"
   ]
  },
  {
   "cell_type": "code",
   "execution_count": 40,
   "id": "170baaad-a0f6-46d5-b04c-5f6db0af8bf0",
   "metadata": {},
   "outputs": [
    {
     "data": {
      "text/plain": [
       "<AxesSubplot:xlabel='city', ylabel='Count'>"
      ]
     },
     "execution_count": 40,
     "metadata": {},
     "output_type": "execute_result"
    },
    {
     "data": {
      "image/png": "[encoded data removed]",
      "text/plain": [
       "<Figure size 432x288 with 1 Axes>"
      ]
     },
     "metadata": {},
     "output_type": "display_data"
    }
   ],
   "source": [
    "sns.histplot(sity_count)"
   ]
  },
  {
   "cell_type": "code",
   "execution_count": 44,
   "id": "9360bb5e-d81b-4b89-bcf2-e6bce08072a6",
   "metadata": {},
   "outputs": [],
   "source": [
    "sity_count_percent=data.city.value_counts(normalize=True).head(12)  # Аналитика по колличеству городов в %"
   ]
  },
  {
   "cell_type": "code",
   "execution_count": 45,
   "id": "e6b5d818-4914-47a2-8cf7-84099dd8afc9",
   "metadata": {
    "tags": []
   },
   "outputs": [
    {
     "data": {
      "text/plain": [
       "г.Казань             0.356\n",
       "г.Набережные Челны   0.154\n",
       "г.Нижнекамск         0.087\n",
       "г.Альметьевск        0.071\n",
       "г.Зеленодольск       0.063\n",
       "г.Бугульма           0.045\n",
       "г.Лениногорск        0.036\n",
       "г.Елабуга            0.026\n",
       "г.Чистополь          0.022\n",
       "г.Азнакаево          0.016\n",
       "с.Ново-Шигалеево     0.010\n",
       "г.Нурлат             0.009\n",
       "Name: city, dtype: float64"
      ]
     },
     "execution_count": 45,
     "metadata": {},
     "output_type": "execute_result"
    }
   ],
   "source": [
    "sity_count_percent"
   ]
  },
  {
   "cell_type": "code",
   "execution_count": 47,
   "id": "187067ba-e722-4e93-a729-3bd3fd2afa60",
   "metadata": {},
   "outputs": [],
   "source": [
    "current_status_count=data.groupby('current_status',as_index=False) \\\n",
    ".agg({'customer_id': 'count'}) \\\n",
    ".rename(columns={\"customer_id\":'count_status'}) \\\n",
    ".sort_values('count_status',ascending=False) \\\n",
    ".head(12)   # статистика по городам по нулевому трафику"
   ]
  },
  {
   "cell_type": "code",
   "execution_count": 48,
   "id": "49076cbd-f09b-4efa-b99e-851275a93d61",
   "metadata": {},
   "outputs": [
    {
     "data": {
      "text/html": [
       "<div>\n",
       "<style scoped>\n",
       "    .dataframe tbody tr th:only-of-type {\n",
       "        vertical-align: middle;\n",
       "    }\n",
       "\n",
       "    .dataframe tbody tr th {\n",
       "        vertical-align: top;\n",
       "    }\n",
       "\n",
       "    .dataframe thead th {\n",
       "        text-align: right;\n",
       "    }\n",
       "</style>\n",
       "<table border=\"1\" class=\"dataframe\">\n",
       "  <thead>\n",
       "    <tr style=\"text-align: right;\">\n",
       "      <th></th>\n",
       "      <th>current_status</th>\n",
       "      <th>count_status</th>\n",
       "    </tr>\n",
       "  </thead>\n",
       "  <tbody>\n",
       "    <tr>\n",
       "      <th>0</th>\n",
       "      <td>Активен</td>\n",
       "      <td>292987</td>\n",
       "    </tr>\n",
       "    <tr>\n",
       "      <th>1</th>\n",
       "      <td>Блокирован</td>\n",
       "      <td>16204</td>\n",
       "    </tr>\n",
       "    <tr>\n",
       "      <th>8</th>\n",
       "      <td>Приостановлен</td>\n",
       "      <td>6654</td>\n",
       "    </tr>\n",
       "    <tr>\n",
       "      <th>7</th>\n",
       "      <td>Закрыт</td>\n",
       "      <td>2382</td>\n",
       "    </tr>\n",
       "    <tr>\n",
       "      <th>2</th>\n",
       "      <td>Блокирован+Приостановлен</td>\n",
       "      <td>1718</td>\n",
       "    </tr>\n",
       "    <tr>\n",
       "      <th>3</th>\n",
       "      <td>В очереди на расторжение (А)</td>\n",
       "      <td>78</td>\n",
       "    </tr>\n",
       "    <tr>\n",
       "      <th>4</th>\n",
       "      <td>В очереди на расторжение (Б)</td>\n",
       "      <td>9</td>\n",
       "    </tr>\n",
       "    <tr>\n",
       "      <th>5</th>\n",
       "      <td>В очереди на расторжение (Б+П)</td>\n",
       "      <td>2</td>\n",
       "    </tr>\n",
       "    <tr>\n",
       "      <th>6</th>\n",
       "      <td>В очереди на расторжение (П)</td>\n",
       "      <td>2</td>\n",
       "    </tr>\n",
       "  </tbody>\n",
       "</table>\n",
       "</div>"
      ],
      "text/plain": [
       "                   current_status  count_status\n",
       "0                         Активен        292987\n",
       "1                      Блокирован         16204\n",
       "8                   Приостановлен          6654\n",
       "7                          Закрыт          2382\n",
       "2        Блокирован+Приостановлен          1718\n",
       "3    В очереди на расторжение (А)            78\n",
       "4    В очереди на расторжение (Б)             9\n",
       "5  В очереди на расторжение (Б+П)             2\n",
       "6    В очереди на расторжение (П)             2"
      ]
     },
     "execution_count": 48,
     "metadata": {},
     "output_type": "execute_result"
    }
   ],
   "source": [
    "current_status_count"
   ]
  },
  {
   "cell_type": "code",
   "execution_count": 26,
   "id": "63aafb2a-81c9-4d8f-bc87-a4e38fa20422",
   "metadata": {},
   "outputs": [],
   "source": [
    "data_filt_traf_status=data_filt_traf.query(\"current_status == 'Активен' & traffic_volume > 0\").copy()"
   ]
  },
  {
   "cell_type": "code",
   "execution_count": 27,
   "id": "b46dc7c7-4830-41dd-9665-44eadcb42041",
   "metadata": {},
   "outputs": [
    {
     "data": {
      "text/html": [
       "<div>\n",
       "<style scoped>\n",
       "    .dataframe tbody tr th:only-of-type {\n",
       "        vertical-align: middle;\n",
       "    }\n",
       "\n",
       "    .dataframe tbody tr th {\n",
       "        vertical-align: top;\n",
       "    }\n",
       "\n",
       "    .dataframe thead th {\n",
       "        text-align: right;\n",
       "    }\n",
       "</style>\n",
       "<table border=\"1\" class=\"dataframe\">\n",
       "  <thead>\n",
       "    <tr style=\"text-align: right;\">\n",
       "      <th></th>\n",
       "      <th>customer_id</th>\n",
       "      <th>traffic_volume</th>\n",
       "    </tr>\n",
       "  </thead>\n",
       "  <tbody>\n",
       "    <tr>\n",
       "      <th>count</th>\n",
       "      <td>268,728.000</td>\n",
       "      <td>268,728.000</td>\n",
       "    </tr>\n",
       "    <tr>\n",
       "      <th>mean</th>\n",
       "      <td>1,166,894.237</td>\n",
       "      <td>46.898</td>\n",
       "    </tr>\n",
       "    <tr>\n",
       "      <th>std</th>\n",
       "      <td>94,992.563</td>\n",
       "      <td>61.955</td>\n",
       "    </tr>\n",
       "    <tr>\n",
       "      <th>min</th>\n",
       "      <td>1,000,156.000</td>\n",
       "      <td>0.000</td>\n",
       "    </tr>\n",
       "    <tr>\n",
       "      <th>25%</th>\n",
       "      <td>1,087,017.750</td>\n",
       "      <td>9.903</td>\n",
       "    </tr>\n",
       "    <tr>\n",
       "      <th>50%</th>\n",
       "      <td>1,167,930.500</td>\n",
       "      <td>28.683</td>\n",
       "    </tr>\n",
       "    <tr>\n",
       "      <th>75%</th>\n",
       "      <td>1,249,197.250</td>\n",
       "      <td>61.644</td>\n",
       "    </tr>\n",
       "    <tr>\n",
       "      <th>max</th>\n",
       "      <td>1,331,136.000</td>\n",
       "      <td>4,987.645</td>\n",
       "    </tr>\n",
       "  </tbody>\n",
       "</table>\n",
       "</div>"
      ],
      "text/plain": [
       "        customer_id  traffic_volume\n",
       "count   268,728.000     268,728.000\n",
       "mean  1,166,894.237          46.898\n",
       "std      94,992.563          61.955\n",
       "min   1,000,156.000           0.000\n",
       "25%   1,087,017.750           9.903\n",
       "50%   1,167,930.500          28.683\n",
       "75%   1,249,197.250          61.644\n",
       "max   1,331,136.000       4,987.645"
      ]
     },
     "execution_count": 27,
     "metadata": {},
     "output_type": "execute_result"
    }
   ],
   "source": [
    "data_filt_traf_status.describe()  # информация по трафики без учета 0 трафика и не активных аккаунтов "
   ]
  },
  {
   "cell_type": "code",
   "execution_count": 21,
   "id": "b95f24ec-0c6e-4bb2-9cad-a4307b96f3ec",
   "metadata": {},
   "outputs": [],
   "source": [
    "sum_data_traf= data['traffic_volume'].mean()"
   ]
  },
  {
   "cell_type": "code",
   "execution_count": 22,
   "id": "0341ca87-e9e7-40dc-8e2c-d7871f4f84fd",
   "metadata": {},
   "outputs": [
    {
     "data": {
      "text/plain": [
       "39.46548393071907"
      ]
     },
     "execution_count": 22,
     "metadata": {},
     "output_type": "execute_result"
    }
   ],
   "source": [
    "sum_data_traf  # сумма всего трафика"
   ]
  },
  {
   "cell_type": "code",
   "execution_count": 30,
   "id": "81300b18-bb03-4289-b74d-15ee9b67ed56",
   "metadata": {},
   "outputs": [],
   "source": [
    "sort_region_sum_traffic=data_group[['region','traffic_volume']] \\\n",
    ".groupby(['region'],sort = True,as_index= False) \\\n",
    ".sum() \\\n",
    ".sort_values('traffic_volume',ascending=False) \\\n",
    ".head(30)  # Распределие трафика по регионам "
   ]
  },
  {
   "cell_type": "code",
   "execution_count": 31,
   "id": "be393790-17b0-4f58-b5c6-3d8224b8ef6b",
   "metadata": {},
   "outputs": [
    {
     "data": {
      "text/html": [
       "<div>\n",
       "<style scoped>\n",
       "    .dataframe tbody tr th:only-of-type {\n",
       "        vertical-align: middle;\n",
       "    }\n",
       "\n",
       "    .dataframe tbody tr th {\n",
       "        vertical-align: top;\n",
       "    }\n",
       "\n",
       "    .dataframe thead th {\n",
       "        text-align: right;\n",
       "    }\n",
       "</style>\n",
       "<table border=\"1\" class=\"dataframe\">\n",
       "  <thead>\n",
       "    <tr style=\"text-align: right;\">\n",
       "      <th></th>\n",
       "      <th>region</th>\n",
       "      <th>traffic_volume</th>\n",
       "    </tr>\n",
       "  </thead>\n",
       "  <tbody>\n",
       "    <tr>\n",
       "      <th>41</th>\n",
       "      <td>г.Казань</td>\n",
       "      <td>4,417,295.050</td>\n",
       "    </tr>\n",
       "    <tr>\n",
       "      <th>42</th>\n",
       "      <td>г.Набережные Челны</td>\n",
       "      <td>1,829,827.770</td>\n",
       "    </tr>\n",
       "    <tr>\n",
       "      <th>28</th>\n",
       "      <td>Нижнекамский р-н</td>\n",
       "      <td>1,214,670.799</td>\n",
       "    </tr>\n",
       "    <tr>\n",
       "      <th>6</th>\n",
       "      <td>Альметьевский р-н</td>\n",
       "      <td>1,033,033.551</td>\n",
       "    </tr>\n",
       "    <tr>\n",
       "      <th>19</th>\n",
       "      <td>Зеленодольский р-н</td>\n",
       "      <td>950,234.142</td>\n",
       "    </tr>\n",
       "    <tr>\n",
       "      <th>12</th>\n",
       "      <td>Бугульминский р-н</td>\n",
       "      <td>646,210.931</td>\n",
       "    </tr>\n",
       "    <tr>\n",
       "      <th>23</th>\n",
       "      <td>Лениногорский р-н</td>\n",
       "      <td>565,339.486</td>\n",
       "    </tr>\n",
       "    <tr>\n",
       "      <th>17</th>\n",
       "      <td>Елабужский р-н</td>\n",
       "      <td>315,529.275</td>\n",
       "    </tr>\n",
       "    <tr>\n",
       "      <th>39</th>\n",
       "      <td>Чистопольский р-н</td>\n",
       "      <td>265,695.169</td>\n",
       "    </tr>\n",
       "    <tr>\n",
       "      <th>1</th>\n",
       "      <td>Азнакаевский р-н</td>\n",
       "      <td>228,369.763</td>\n",
       "    </tr>\n",
       "    <tr>\n",
       "      <th>31</th>\n",
       "      <td>Пестречинский р-н</td>\n",
       "      <td>141,854.362</td>\n",
       "    </tr>\n",
       "    <tr>\n",
       "      <th>30</th>\n",
       "      <td>Нурлатский р-н</td>\n",
       "      <td>127,798.117</td>\n",
       "    </tr>\n",
       "    <tr>\n",
       "      <th>10</th>\n",
       "      <td>Бавлинский р-н</td>\n",
       "      <td>116,809.995</td>\n",
       "    </tr>\n",
       "    <tr>\n",
       "      <th>18</th>\n",
       "      <td>Заинский р-н</td>\n",
       "      <td>86,182.058</td>\n",
       "    </tr>\n",
       "    <tr>\n",
       "      <th>25</th>\n",
       "      <td>Менделеевский р-н</td>\n",
       "      <td>74,465.380</td>\n",
       "    </tr>\n",
       "    <tr>\n",
       "      <th>0</th>\n",
       "      <td>Агрызский р-н</td>\n",
       "      <td>72,935.387</td>\n",
       "    </tr>\n",
       "    <tr>\n",
       "      <th>14</th>\n",
       "      <td>Верхнеуслонский р-н</td>\n",
       "      <td>60,936.890</td>\n",
       "    </tr>\n",
       "    <tr>\n",
       "      <th>22</th>\n",
       "      <td>Лаишевский р-н</td>\n",
       "      <td>54,587.956</td>\n",
       "    </tr>\n",
       "    <tr>\n",
       "      <th>34</th>\n",
       "      <td>Сармановский р-н</td>\n",
       "      <td>53,947.023</td>\n",
       "    </tr>\n",
       "    <tr>\n",
       "      <th>13</th>\n",
       "      <td>Буинский р-н</td>\n",
       "      <td>50,003.335</td>\n",
       "    </tr>\n",
       "    <tr>\n",
       "      <th>24</th>\n",
       "      <td>Мамадышский р-н</td>\n",
       "      <td>42,388.365</td>\n",
       "    </tr>\n",
       "    <tr>\n",
       "      <th>26</th>\n",
       "      <td>Мензелинский р-н</td>\n",
       "      <td>40,150.351</td>\n",
       "    </tr>\n",
       "    <tr>\n",
       "      <th>40</th>\n",
       "      <td>Ютазинский р-н</td>\n",
       "      <td>37,434.027</td>\n",
       "    </tr>\n",
       "    <tr>\n",
       "      <th>15</th>\n",
       "      <td>Высокогорский р-н</td>\n",
       "      <td>27,788.125</td>\n",
       "    </tr>\n",
       "    <tr>\n",
       "      <th>21</th>\n",
       "      <td>Кукморский р-н</td>\n",
       "      <td>25,788.611</td>\n",
       "    </tr>\n",
       "    <tr>\n",
       "      <th>37</th>\n",
       "      <td>Тукаевский р-н</td>\n",
       "      <td>21,848.582</td>\n",
       "    </tr>\n",
       "    <tr>\n",
       "      <th>8</th>\n",
       "      <td>Арский р-н</td>\n",
       "      <td>20,608.906</td>\n",
       "    </tr>\n",
       "    <tr>\n",
       "      <th>33</th>\n",
       "      <td>Сабинский р-н</td>\n",
       "      <td>19,674.237</td>\n",
       "    </tr>\n",
       "    <tr>\n",
       "      <th>3</th>\n",
       "      <td>Актанышский р-н</td>\n",
       "      <td>18,589.735</td>\n",
       "    </tr>\n",
       "    <tr>\n",
       "      <th>20</th>\n",
       "      <td>Камско-Устьинский р-н</td>\n",
       "      <td>13,757.806</td>\n",
       "    </tr>\n",
       "  </tbody>\n",
       "</table>\n",
       "</div>"
      ],
      "text/plain": [
       "                   region  traffic_volume\n",
       "41               г.Казань   4,417,295.050\n",
       "42     г.Набережные Челны   1,829,827.770\n",
       "28       Нижнекамский р-н   1,214,670.799\n",
       "6       Альметьевский р-н   1,033,033.551\n",
       "19     Зеленодольский р-н     950,234.142\n",
       "12      Бугульминский р-н     646,210.931\n",
       "23      Лениногорский р-н     565,339.486\n",
       "17         Елабужский р-н     315,529.275\n",
       "39      Чистопольский р-н     265,695.169\n",
       "1        Азнакаевский р-н     228,369.763\n",
       "31      Пестречинский р-н     141,854.362\n",
       "30         Нурлатский р-н     127,798.117\n",
       "10         Бавлинский р-н     116,809.995\n",
       "18           Заинский р-н      86,182.058\n",
       "25      Менделеевский р-н      74,465.380\n",
       "0           Агрызский р-н      72,935.387\n",
       "14    Верхнеуслонский р-н      60,936.890\n",
       "22         Лаишевский р-н      54,587.956\n",
       "34       Сармановский р-н      53,947.023\n",
       "13           Буинский р-н      50,003.335\n",
       "24        Мамадышский р-н      42,388.365\n",
       "26       Мензелинский р-н      40,150.351\n",
       "40         Ютазинский р-н      37,434.027\n",
       "15      Высокогорский р-н      27,788.125\n",
       "21         Кукморский р-н      25,788.611\n",
       "37         Тукаевский р-н      21,848.582\n",
       "8              Арский р-н      20,608.906\n",
       "33          Сабинский р-н      19,674.237\n",
       "3         Актанышский р-н      18,589.735\n",
       "20  Камско-Устьинский р-н      13,757.806"
      ]
     },
     "execution_count": 31,
     "metadata": {},
     "output_type": "execute_result"
    }
   ],
   "source": [
    "sort_region_sum_traffic"
   ]
  },
  {
   "cell_type": "code",
   "execution_count": 35,
   "id": "fcea997a-9d60-47ad-954f-39f8ca0ded65",
   "metadata": {},
   "outputs": [
    {
     "data": {
      "text/plain": [
       "<AxesSubplot:ylabel='Count'>"
      ]
     },
     "execution_count": 35,
     "metadata": {},
     "output_type": "execute_result"
    },
    {
     "data": {
      "image/png": "[encoded data removed]",
      "text/plain": [
       "<Figure size 432x288 with 1 Axes>"
      ]
     },
     "metadata": {},
     "output_type": "display_data"
    }
   ],
   "source": [
    "sns.histplot(sort_region_sum_traffic)"
   ]
  },
  {
   "cell_type": "code",
   "execution_count": 23,
   "id": "16b39828-d470-429b-b44e-aca78a789773",
   "metadata": {},
   "outputs": [],
   "source": [
    "sity_id_count = data.groupby('city',as_index=False).agg({'customer_id': 'count'}) \\\n",
    ".rename(columns={\"customer_id\":'count_customer'}) \\\n",
    ".sort_values('count_customer',ascending=False) \\\n",
    ".head(12)  # Самоповтор "
   ]
  },
  {
   "cell_type": "code",
   "execution_count": 24,
   "id": "22edcec8-b8b3-46ae-a20e-3acf1a0e6a98",
   "metadata": {},
   "outputs": [
    {
     "data": {
      "text/html": [
       "<div>\n",
       "<style scoped>\n",
       "    .dataframe tbody tr th:only-of-type {\n",
       "        vertical-align: middle;\n",
       "    }\n",
       "\n",
       "    .dataframe tbody tr th {\n",
       "        vertical-align: top;\n",
       "    }\n",
       "\n",
       "    .dataframe thead th {\n",
       "        text-align: right;\n",
       "    }\n",
       "</style>\n",
       "<table border=\"1\" class=\"dataframe\">\n",
       "  <thead>\n",
       "    <tr style=\"text-align: right;\">\n",
       "      <th></th>\n",
       "      <th>city</th>\n",
       "      <th>count_customer</th>\n",
       "    </tr>\n",
       "  </thead>\n",
       "  <tbody>\n",
       "    <tr>\n",
       "      <th>12</th>\n",
       "      <td>г.Казань</td>\n",
       "      <td>113797</td>\n",
       "    </tr>\n",
       "    <tr>\n",
       "      <th>19</th>\n",
       "      <td>г.Набережные Челны</td>\n",
       "      <td>49408</td>\n",
       "    </tr>\n",
       "    <tr>\n",
       "      <th>20</th>\n",
       "      <td>г.Нижнекамск</td>\n",
       "      <td>27876</td>\n",
       "    </tr>\n",
       "    <tr>\n",
       "      <th>2</th>\n",
       "      <td>г.Альметьевск</td>\n",
       "      <td>22712</td>\n",
       "    </tr>\n",
       "    <tr>\n",
       "      <th>10</th>\n",
       "      <td>г.Зеленодольск</td>\n",
       "      <td>20146</td>\n",
       "    </tr>\n",
       "    <tr>\n",
       "      <th>6</th>\n",
       "      <td>г.Бугульма</td>\n",
       "      <td>14354</td>\n",
       "    </tr>\n",
       "    <tr>\n",
       "      <th>15</th>\n",
       "      <td>г.Лениногорск</td>\n",
       "      <td>11382</td>\n",
       "    </tr>\n",
       "    <tr>\n",
       "      <th>8</th>\n",
       "      <td>г.Елабуга</td>\n",
       "      <td>8381</td>\n",
       "    </tr>\n",
       "    <tr>\n",
       "      <th>23</th>\n",
       "      <td>г.Чистополь</td>\n",
       "      <td>6942</td>\n",
       "    </tr>\n",
       "    <tr>\n",
       "      <th>1</th>\n",
       "      <td>г.Азнакаево</td>\n",
       "      <td>4985</td>\n",
       "    </tr>\n",
       "    <tr>\n",
       "      <th>109</th>\n",
       "      <td>с.Ново-Шигалеево</td>\n",
       "      <td>3246</td>\n",
       "    </tr>\n",
       "    <tr>\n",
       "      <th>21</th>\n",
       "      <td>г.Нурлат</td>\n",
       "      <td>2844</td>\n",
       "    </tr>\n",
       "  </tbody>\n",
       "</table>\n",
       "</div>"
      ],
      "text/plain": [
       "                   city  count_customer\n",
       "12             г.Казань          113797\n",
       "19   г.Набережные Челны           49408\n",
       "20         г.Нижнекамск           27876\n",
       "2         г.Альметьевск           22712\n",
       "10       г.Зеленодольск           20146\n",
       "6            г.Бугульма           14354\n",
       "15        г.Лениногорск           11382\n",
       "8             г.Елабуга            8381\n",
       "23          г.Чистополь            6942\n",
       "1           г.Азнакаево            4985\n",
       "109    с.Ново-Шигалеево            3246\n",
       "21             г.Нурлат            2844"
      ]
     },
     "execution_count": 24,
     "metadata": {},
     "output_type": "execute_result"
    }
   ],
   "source": [
    "sity_id_count"
   ]
  },
  {
   "cell_type": "code",
   "execution_count": 32,
   "id": "e38d9ae0-1e92-4ff3-9f03-60cf07ef9179",
   "metadata": {},
   "outputs": [
    {
     "data": {
      "image/png": "[encoded data removed]",
      "text/plain": [
       "<Figure size 1152x432 with 1 Axes>"
      ]
     },
     "metadata": {},
     "output_type": "display_data"
    }
   ],
   "source": [
    "city_graf=sns.barplot(x=\"city\", y=\"count_customer\",data=sity_id_count)"
   ]
  },
  {
   "cell_type": "code",
   "execution_count": 35,
   "id": "a448de91-80f7-4fbb-a4d3-20d0aa45687a",
   "metadata": {},
   "outputs": [
    {
     "data": {
      "text/html": [
       "<div>\n",
       "<style scoped>\n",
       "    .dataframe tbody tr th:only-of-type {\n",
       "        vertical-align: middle;\n",
       "    }\n",
       "\n",
       "    .dataframe tbody tr th {\n",
       "        vertical-align: top;\n",
       "    }\n",
       "\n",
       "    .dataframe thead th {\n",
       "        text-align: right;\n",
       "    }\n",
       "</style>\n",
       "<table border=\"1\" class=\"dataframe\">\n",
       "  <thead>\n",
       "    <tr style=\"text-align: right;\">\n",
       "      <th></th>\n",
       "      <th>count_customer</th>\n",
       "    </tr>\n",
       "  </thead>\n",
       "  <tbody>\n",
       "    <tr>\n",
       "      <th>count</th>\n",
       "      <td>12.000</td>\n",
       "    </tr>\n",
       "    <tr>\n",
       "      <th>mean</th>\n",
       "      <td>23,839.417</td>\n",
       "    </tr>\n",
       "    <tr>\n",
       "      <th>std</th>\n",
       "      <td>31,286.588</td>\n",
       "    </tr>\n",
       "    <tr>\n",
       "      <th>min</th>\n",
       "      <td>2,844.000</td>\n",
       "    </tr>\n",
       "    <tr>\n",
       "      <th>25%</th>\n",
       "      <td>6,452.750</td>\n",
       "    </tr>\n",
       "    <tr>\n",
       "      <th>50%</th>\n",
       "      <td>12,868.000</td>\n",
       "    </tr>\n",
       "    <tr>\n",
       "      <th>75%</th>\n",
       "      <td>24,003.000</td>\n",
       "    </tr>\n",
       "    <tr>\n",
       "      <th>max</th>\n",
       "      <td>113,797.000</td>\n",
       "    </tr>\n",
       "  </tbody>\n",
       "</table>\n",
       "</div>"
      ],
      "text/plain": [
       "       count_customer\n",
       "count          12.000\n",
       "mean       23,839.417\n",
       "std        31,286.588\n",
       "min         2,844.000\n",
       "25%         6,452.750\n",
       "50%        12,868.000\n",
       "75%        24,003.000\n",
       "max       113,797.000"
      ]
     },
     "execution_count": 35,
     "metadata": {},
     "output_type": "execute_result"
    }
   ],
   "source": [
    "sity_id_count.describe() "
   ]
  },
  {
   "cell_type": "code",
   "execution_count": 25,
   "id": "2f49e7fd-86c5-4fb2-957f-3889720159f9",
   "metadata": {},
   "outputs": [],
   "source": [
    "region_id_count = data.groupby('region',as_index=False).agg({'customer_id': 'count'}) \\\n",
    ".rename(columns={\"customer_id\":'count_customer'}) \\\n",
    ".sort_values('count_customer',ascending=False).head(12)  # Самоповтор "
   ]
  },
  {
   "cell_type": "code",
   "execution_count": 41,
   "id": "699b07d3-d530-4b45-bf58-6326069d8d69",
   "metadata": {},
   "outputs": [
    {
     "data": {
      "text/html": [
       "<div>\n",
       "<style scoped>\n",
       "    .dataframe tbody tr th:only-of-type {\n",
       "        vertical-align: middle;\n",
       "    }\n",
       "\n",
       "    .dataframe tbody tr th {\n",
       "        vertical-align: top;\n",
       "    }\n",
       "\n",
       "    .dataframe thead th {\n",
       "        text-align: right;\n",
       "    }\n",
       "</style>\n",
       "<table border=\"1\" class=\"dataframe\">\n",
       "  <thead>\n",
       "    <tr style=\"text-align: right;\">\n",
       "      <th></th>\n",
       "      <th>region</th>\n",
       "      <th>customer_id</th>\n",
       "    </tr>\n",
       "  </thead>\n",
       "  <tbody>\n",
       "    <tr>\n",
       "      <th>41</th>\n",
       "      <td>г.Казань</td>\n",
       "      <td>113797</td>\n",
       "    </tr>\n",
       "    <tr>\n",
       "      <th>42</th>\n",
       "      <td>г.Набережные Челны</td>\n",
       "      <td>49408</td>\n",
       "    </tr>\n",
       "    <tr>\n",
       "      <th>28</th>\n",
       "      <td>Нижнекамский р-н</td>\n",
       "      <td>30421</td>\n",
       "    </tr>\n",
       "    <tr>\n",
       "      <th>19</th>\n",
       "      <td>Зеленодольский р-н</td>\n",
       "      <td>23638</td>\n",
       "    </tr>\n",
       "    <tr>\n",
       "      <th>6</th>\n",
       "      <td>Альметьевский р-н</td>\n",
       "      <td>22821</td>\n",
       "    </tr>\n",
       "    <tr>\n",
       "      <th>12</th>\n",
       "      <td>Бугульминский р-н</td>\n",
       "      <td>14500</td>\n",
       "    </tr>\n",
       "    <tr>\n",
       "      <th>23</th>\n",
       "      <td>Лениногорский р-н</td>\n",
       "      <td>11657</td>\n",
       "    </tr>\n",
       "    <tr>\n",
       "      <th>17</th>\n",
       "      <td>Елабужский р-н</td>\n",
       "      <td>8381</td>\n",
       "    </tr>\n",
       "    <tr>\n",
       "      <th>39</th>\n",
       "      <td>Чистопольский р-н</td>\n",
       "      <td>6960</td>\n",
       "    </tr>\n",
       "    <tr>\n",
       "      <th>1</th>\n",
       "      <td>Азнакаевский р-н</td>\n",
       "      <td>5775</td>\n",
       "    </tr>\n",
       "    <tr>\n",
       "      <th>31</th>\n",
       "      <td>Пестречинский р-н</td>\n",
       "      <td>3740</td>\n",
       "    </tr>\n",
       "    <tr>\n",
       "      <th>30</th>\n",
       "      <td>Нурлатский р-н</td>\n",
       "      <td>2847</td>\n",
       "    </tr>\n",
       "  </tbody>\n",
       "</table>\n",
       "</div>"
      ],
      "text/plain": [
       "                region  customer_id\n",
       "41            г.Казань       113797\n",
       "42  г.Набережные Челны        49408\n",
       "28    Нижнекамский р-н        30421\n",
       "19  Зеленодольский р-н        23638\n",
       "6    Альметьевский р-н        22821\n",
       "12   Бугульминский р-н        14500\n",
       "23   Лениногорский р-н        11657\n",
       "17      Елабужский р-н         8381\n",
       "39   Чистопольский р-н         6960\n",
       "1     Азнакаевский р-н         5775\n",
       "31   Пестречинский р-н         3740\n",
       "30      Нурлатский р-н         2847"
      ]
     },
     "execution_count": 41,
     "metadata": {},
     "output_type": "execute_result"
    }
   ],
   "source": [
    "region_id_count"
   ]
  },
  {
   "cell_type": "code",
   "execution_count": 42,
   "id": "591dba19-c13d-4e7a-8d12-f74964e90599",
   "metadata": {},
   "outputs": [
    {
     "data": {
      "image/png": "[encoded data removed]",
      "text/plain": [
       "<Figure size 1152x432 with 1 Axes>"
      ]
     },
     "metadata": {},
     "output_type": "display_data"
    }
   ],
   "source": [
    "city_graf=sns.barplot(x=\"region\", y=\"count_customer\",data=region_id_count)"
   ]
  },
  {
   "cell_type": "code",
   "execution_count": 42,
   "id": "c4b6f92d-af18-4c50-b406-64897581af92",
   "metadata": {},
   "outputs": [],
   "source": [
    "filt_date_dissolution = data.query(\"date_dissolution != '-'\").convert_dtypes().copy()  # Отбрасываем даты растожения без значений"
   ]
  },
  {
   "cell_type": "code",
   "execution_count": 43,
   "id": "d30c32ff-c65c-4327-92ce-8384a915704f",
   "metadata": {},
   "outputs": [
    {
     "name": "stdout",
     "output_type": "stream",
     "text": [
      "<class 'pandas.core.frame.DataFrame'>\n",
      "Int64Index: 2382 entries, 228 to 319423\n",
      "Data columns (total 8 columns):\n",
      " #   Column            Non-Null Count  Dtype         \n",
      "---  ------            --------------  -----         \n",
      " 0   customer_id       2382 non-null   Int64         \n",
      " 1   region            2382 non-null   string        \n",
      " 2   city              2382 non-null   string        \n",
      " 3   date_conclusion   2382 non-null   datetime64[ns]\n",
      " 4   current_status    2382 non-null   string        \n",
      " 5   traffic_volume    2382 non-null   Float64       \n",
      " 6   traffic_period    2382 non-null   datetime64[ns]\n",
      " 7   date_dissolution  2382 non-null   string        \n",
      "dtypes: Float64(1), Int64(1), datetime64[ns](2), string(4)\n",
      "memory usage: 172.1 KB\n"
     ]
    }
   ],
   "source": [
    "filt_date_dissolution.info()"
   ]
  },
  {
   "cell_type": "code",
   "execution_count": 44,
   "id": "e453ee5a-fa50-4652-bc2e-419171d09c05",
   "metadata": {},
   "outputs": [],
   "source": [
    "datetime_for_dissolution=pd.to_datetime(filt_date_dissolution['date_dissolution'],dayfirst=True,infer_datetime_format=True)"
   ]
  },
  {
   "cell_type": "code",
   "execution_count": 45,
   "id": "0ab9948f-abda-40d5-8f9c-01826e8fcf0e",
   "metadata": {},
   "outputs": [
    {
     "data": {
      "text/plain": [
       "228      2020-07-08\n",
       "229      2020-07-01\n",
       "835      2020-07-12\n",
       "1506     2020-06-26\n",
       "1523     2020-07-01\n",
       "            ...    \n",
       "318849   2020-07-09\n",
       "318932   2020-07-04\n",
       "319108   2020-07-06\n",
       "319402   2020-07-10\n",
       "319423   2020-07-08\n",
       "Name: date_dissolution, Length: 2382, dtype: datetime64[ns]"
      ]
     },
     "execution_count": 45,
     "metadata": {},
     "output_type": "execute_result"
    }
   ],
   "source": [
    "datetime_for_dissolution"
   ]
  },
  {
   "cell_type": "code",
   "execution_count": 46,
   "id": "ae5a57f1-f067-46fb-9c36-d7d891523ea5",
   "metadata": {},
   "outputs": [
    {
     "name": "stderr",
     "output_type": "stream",
     "text": [
      "C:\\Users\\andrey\\AppData\\Local\\Temp\\ipykernel_2496\\2899318722.py:1: FutureWarning: In a future version of pandas all arguments of DataFrame.drop except for the argument 'labels' will be keyword-only.\n",
      "  filt_date_dissolution_drop = filt_date_dissolution.drop('date_dissolution', 1).copy()\n"
     ]
    }
   ],
   "source": [
    "filt_date_dissolution_drop = filt_date_dissolution.drop('date_dissolution', 1).copy()"
   ]
  },
  {
   "cell_type": "code",
   "execution_count": 47,
   "id": "f3ce4d58-8942-4ba8-8666-bab4e1bf3d91",
   "metadata": {},
   "outputs": [
    {
     "name": "stdout",
     "output_type": "stream",
     "text": [
      "<class 'pandas.core.frame.DataFrame'>\n",
      "Int64Index: 2382 entries, 228 to 319423\n",
      "Data columns (total 7 columns):\n",
      " #   Column           Non-Null Count  Dtype         \n",
      "---  ------           --------------  -----         \n",
      " 0   customer_id      2382 non-null   Int64         \n",
      " 1   region           2382 non-null   string        \n",
      " 2   city             2382 non-null   string        \n",
      " 3   date_conclusion  2382 non-null   datetime64[ns]\n",
      " 4   current_status   2382 non-null   string        \n",
      " 5   traffic_volume   2382 non-null   Float64       \n",
      " 6   traffic_period   2382 non-null   datetime64[ns]\n",
      "dtypes: Float64(1), Int64(1), datetime64[ns](2), string(3)\n",
      "memory usage: 153.5 KB\n"
     ]
    }
   ],
   "source": [
    "filt_date_dissolution_drop.info()"
   ]
  },
  {
   "cell_type": "code",
   "execution_count": 48,
   "id": "281fa622-3473-4ab5-a878-29a53008e8da",
   "metadata": {},
   "outputs": [],
   "source": [
    "filt_date_dissolution=filt_date_dissolution_drop.join(datetime_for_dissolution)"
   ]
  },
  {
   "cell_type": "code",
   "execution_count": 49,
   "id": "c5121800-ea34-4965-b542-1633ae6c4f04",
   "metadata": {},
   "outputs": [
    {
     "data": {
      "text/html": [
       "<div>\n",
       "<style scoped>\n",
       "    .dataframe tbody tr th:only-of-type {\n",
       "        vertical-align: middle;\n",
       "    }\n",
       "\n",
       "    .dataframe tbody tr th {\n",
       "        vertical-align: top;\n",
       "    }\n",
       "\n",
       "    .dataframe thead th {\n",
       "        text-align: right;\n",
       "    }\n",
       "</style>\n",
       "<table border=\"1\" class=\"dataframe\">\n",
       "  <thead>\n",
       "    <tr style=\"text-align: right;\">\n",
       "      <th></th>\n",
       "      <th>customer_id</th>\n",
       "      <th>region</th>\n",
       "      <th>city</th>\n",
       "      <th>date_conclusion</th>\n",
       "      <th>current_status</th>\n",
       "      <th>traffic_volume</th>\n",
       "      <th>traffic_period</th>\n",
       "      <th>date_dissolution</th>\n",
       "    </tr>\n",
       "  </thead>\n",
       "  <tbody>\n",
       "    <tr>\n",
       "      <th>228</th>\n",
       "      <td>1060078</td>\n",
       "      <td>г.Казань</td>\n",
       "      <td>г.Казань</td>\n",
       "      <td>2009-11-01 00:00:00</td>\n",
       "      <td>Закрыт</td>\n",
       "      <td>0.000</td>\n",
       "      <td>2018-08-01</td>\n",
       "      <td>2020-07-08</td>\n",
       "    </tr>\n",
       "    <tr>\n",
       "      <th>229</th>\n",
       "      <td>1060080</td>\n",
       "      <td>г.Казань</td>\n",
       "      <td>г.Казань</td>\n",
       "      <td>2009-11-01 00:00:00</td>\n",
       "      <td>Закрыт</td>\n",
       "      <td>0.000</td>\n",
       "      <td>2018-08-01</td>\n",
       "      <td>2020-07-01</td>\n",
       "    </tr>\n",
       "    <tr>\n",
       "      <th>835</th>\n",
       "      <td>1060927</td>\n",
       "      <td>г.Казань</td>\n",
       "      <td>г.Казань</td>\n",
       "      <td>2009-12-01 00:00:00</td>\n",
       "      <td>Закрыт</td>\n",
       "      <td>83.292</td>\n",
       "      <td>2018-08-01</td>\n",
       "      <td>2020-07-12</td>\n",
       "    </tr>\n",
       "    <tr>\n",
       "      <th>1506</th>\n",
       "      <td>1060928</td>\n",
       "      <td>г.Казань</td>\n",
       "      <td>г.Казань</td>\n",
       "      <td>2009-12-01 00:00:00</td>\n",
       "      <td>Закрыт</td>\n",
       "      <td>0.000</td>\n",
       "      <td>2018-08-01</td>\n",
       "      <td>2020-06-26</td>\n",
       "    </tr>\n",
       "    <tr>\n",
       "      <th>1523</th>\n",
       "      <td>1037554</td>\n",
       "      <td>Бугульминский р-н</td>\n",
       "      <td>г.Бугульма</td>\n",
       "      <td>2009-12-01 11:46:50</td>\n",
       "      <td>Закрыт</td>\n",
       "      <td>0.000</td>\n",
       "      <td>2018-08-01</td>\n",
       "      <td>2020-07-01</td>\n",
       "    </tr>\n",
       "    <tr>\n",
       "      <th>...</th>\n",
       "      <td>...</td>\n",
       "      <td>...</td>\n",
       "      <td>...</td>\n",
       "      <td>...</td>\n",
       "      <td>...</td>\n",
       "      <td>...</td>\n",
       "      <td>...</td>\n",
       "      <td>...</td>\n",
       "    </tr>\n",
       "    <tr>\n",
       "      <th>318849</th>\n",
       "      <td>1314847</td>\n",
       "      <td>Нурлатский р-н</td>\n",
       "      <td>г.Нурлат</td>\n",
       "      <td>2020-07-03 15:33:29</td>\n",
       "      <td>Закрыт</td>\n",
       "      <td>0.000</td>\n",
       "      <td>2018-08-01</td>\n",
       "      <td>2020-07-09</td>\n",
       "    </tr>\n",
       "    <tr>\n",
       "      <th>318932</th>\n",
       "      <td>1256168</td>\n",
       "      <td>Зеленодольский р-н</td>\n",
       "      <td>г.Зеленодольск</td>\n",
       "      <td>2020-07-04 10:08:39</td>\n",
       "      <td>Закрыт</td>\n",
       "      <td>0.000</td>\n",
       "      <td>2018-08-01</td>\n",
       "      <td>2020-07-04</td>\n",
       "    </tr>\n",
       "    <tr>\n",
       "      <th>319108</th>\n",
       "      <td>1232994</td>\n",
       "      <td>Елабужский р-н</td>\n",
       "      <td>г.Елабуга</td>\n",
       "      <td>2020-07-06 09:43:50</td>\n",
       "      <td>Закрыт</td>\n",
       "      <td>0.000</td>\n",
       "      <td>2018-08-01</td>\n",
       "      <td>2020-07-06</td>\n",
       "    </tr>\n",
       "    <tr>\n",
       "      <th>319402</th>\n",
       "      <td>1308588</td>\n",
       "      <td>Нижнекамский р-н</td>\n",
       "      <td>г.Нижнекамск</td>\n",
       "      <td>2020-07-07 18:01:05</td>\n",
       "      <td>Закрыт</td>\n",
       "      <td>0.000</td>\n",
       "      <td>2018-08-01</td>\n",
       "      <td>2020-07-10</td>\n",
       "    </tr>\n",
       "    <tr>\n",
       "      <th>319423</th>\n",
       "      <td>1233004</td>\n",
       "      <td>Елабужский р-н</td>\n",
       "      <td>г.Елабуга</td>\n",
       "      <td>2020-07-08 00:00:00</td>\n",
       "      <td>Закрыт</td>\n",
       "      <td>0.000</td>\n",
       "      <td>2018-08-01</td>\n",
       "      <td>2020-07-08</td>\n",
       "    </tr>\n",
       "  </tbody>\n",
       "</table>\n",
       "<p>2382 rows × 8 columns</p>\n",
       "</div>"
      ],
      "text/plain": [
       "        customer_id              region            city     date_conclusion  \\\n",
       "228         1060078            г.Казань        г.Казань 2009-11-01 00:00:00   \n",
       "229         1060080            г.Казань        г.Казань 2009-11-01 00:00:00   \n",
       "835         1060927            г.Казань        г.Казань 2009-12-01 00:00:00   \n",
       "1506        1060928            г.Казань        г.Казань 2009-12-01 00:00:00   \n",
       "1523        1037554   Бугульминский р-н      г.Бугульма 2009-12-01 11:46:50   \n",
       "...             ...                 ...             ...                 ...   \n",
       "318849      1314847      Нурлатский р-н        г.Нурлат 2020-07-03 15:33:29   \n",
       "318932      1256168  Зеленодольский р-н  г.Зеленодольск 2020-07-04 10:08:39   \n",
       "319108      1232994      Елабужский р-н       г.Елабуга 2020-07-06 09:43:50   \n",
       "319402      1308588    Нижнекамский р-н    г.Нижнекамск 2020-07-07 18:01:05   \n",
       "319423      1233004      Елабужский р-н       г.Елабуга 2020-07-08 00:00:00   \n",
       "\n",
       "       current_status  traffic_volume traffic_period date_dissolution  \n",
       "228            Закрыт           0.000     2018-08-01       2020-07-08  \n",
       "229            Закрыт           0.000     2018-08-01       2020-07-01  \n",
       "835            Закрыт          83.292     2018-08-01       2020-07-12  \n",
       "1506           Закрыт           0.000     2018-08-01       2020-06-26  \n",
       "1523           Закрыт           0.000     2018-08-01       2020-07-01  \n",
       "...               ...             ...            ...              ...  \n",
       "318849         Закрыт           0.000     2018-08-01       2020-07-09  \n",
       "318932         Закрыт           0.000     2018-08-01       2020-07-04  \n",
       "319108         Закрыт           0.000     2018-08-01       2020-07-06  \n",
       "319402         Закрыт           0.000     2018-08-01       2020-07-10  \n",
       "319423         Закрыт           0.000     2018-08-01       2020-07-08  \n",
       "\n",
       "[2382 rows x 8 columns]"
      ]
     },
     "execution_count": 49,
     "metadata": {},
     "output_type": "execute_result"
    }
   ],
   "source": [
    "filt_date_dissolution"
   ]
  },
  {
   "cell_type": "code",
   "execution_count": 50,
   "id": "65367efb-2b2e-4744-af75-40c69a104364",
   "metadata": {},
   "outputs": [],
   "source": [
    "filt_data_dissolution_stat=filt_date_dissolution.groupby(['region', pd.Grouper(key='date_dissolution', freq='M')])['traffic_volume'].sum()"
   ]
  },
  {
   "cell_type": "code",
   "execution_count": 51,
   "id": "769fa2a8-3de4-4f19-a892-be2531359903",
   "metadata": {},
   "outputs": [
    {
     "data": {
      "text/plain": [
       "region                 date_dissolution\n",
       "Агрызский р-н          2020-06-30             0.000\n",
       "                       2020-07-31            66.662\n",
       "Азнакаевский р-н       2020-07-31            76.570\n",
       "Актанышский р-н        2020-07-31            22.413\n",
       "Алексеевский р-н       2020-07-31             9.776\n",
       "Альметьевский р-н      2020-06-30             0.000\n",
       "                       2020-07-31         1,045.808\n",
       "Апастовский р-н        2020-07-31             0.000\n",
       "Арский р-н             2020-07-31             0.000\n",
       "Бавлинский р-н         2020-07-31             4.104\n",
       "Балтасинский р-н       2020-07-31             0.000\n",
       "Бугульминский р-н      2020-06-30             0.000\n",
       "                       2020-07-31           449.774\n",
       "Буинский р-н           2020-07-31             4.065\n",
       "Верхнеуслонский р-н    2020-07-31            38.020\n",
       "Высокогорский р-н      2020-07-31            54.932\n",
       "Дрожжановский р-н      2020-07-31             0.000\n",
       "Елабужский р-н         2020-06-30             0.000\n",
       "                       2020-07-31           249.656\n",
       "Заинский р-н           2020-07-31             9.607\n",
       "Зеленодольский р-н     2020-07-31           289.523\n",
       "Камско-Устьинский р-н  2020-07-31             1.380\n",
       "Кукморский р-н         2020-07-31             0.061\n",
       "Лаишевский р-н         2020-07-31            36.526\n",
       "Лениногорский р-н      2020-07-31           365.787\n",
       "Менделеевский р-н      2020-06-30             0.000\n",
       "                       2020-07-31           153.487\n",
       "Мензелинский р-н       2020-07-31             0.000\n",
       "Муслюмовский р-н       2020-07-31            28.286\n",
       "Нижнекамский р-н       2020-04-30             0.000\n",
       "                       2020-06-30             0.000\n",
       "                       2020-07-31           923.817\n",
       "Новошешминский р-н     2020-07-31             0.000\n",
       "Нурлатский р-н         2020-07-31           132.600\n",
       "Пестречинский р-н      2020-07-31            94.090\n",
       "Рыбно-Слободский р-н   2020-07-31             0.000\n",
       "Сабинский р-н          2020-07-31             0.194\n",
       "Сармановский р-н       2020-07-31            36.882\n",
       "Спасский р-н           2020-07-31             0.000\n",
       "Тукаевский р-н         2020-07-31             0.000\n",
       "Чистопольский р-н      2020-06-30             0.000\n",
       "                       2020-07-31            28.849\n",
       "Ютазинский р-н         2020-07-31           101.563\n",
       "г.Казань               2020-01-31             0.000\n",
       "                       2020-05-31             0.000\n",
       "                       2020-06-30             0.000\n",
       "                       2020-07-31         6,827.009\n",
       "г.Набережные Челны     2020-06-30             0.000\n",
       "                       2020-07-31           915.231\n",
       "Name: traffic_volume, dtype: Float64"
      ]
     },
     "execution_count": 51,
     "metadata": {},
     "output_type": "execute_result"
    }
   ],
   "source": [
    "filt_data_dissolution_stat"
   ]
  },
  {
   "cell_type": "code",
   "execution_count": 52,
   "id": "77fdd061-5b75-474e-b7ff-91c2919f3df7",
   "metadata": {},
   "outputs": [
    {
     "data": {
      "text/plain": [
       "region                 date_dissolution\n",
       "Агрызский р-н          2020-06-30             0.000\n",
       "                       2020-07-31            66.662\n",
       "Азнакаевский р-н       2020-07-31            76.570\n",
       "Актанышский р-н        2020-07-31            22.413\n",
       "Алексеевский р-н       2020-07-31             9.776\n",
       "Альметьевский р-н      2020-06-30             0.000\n",
       "                       2020-07-31         1,045.808\n",
       "Апастовский р-н        2020-07-31             0.000\n",
       "Арский р-н             2020-07-31             0.000\n",
       "Бавлинский р-н         2020-07-31             4.104\n",
       "Балтасинский р-н       2020-07-31             0.000\n",
       "Бугульминский р-н      2020-06-30             0.000\n",
       "                       2020-07-31           449.774\n",
       "Буинский р-н           2020-07-31             4.065\n",
       "Верхнеуслонский р-н    2020-07-31            38.020\n",
       "Высокогорский р-н      2020-07-31            54.932\n",
       "Дрожжановский р-н      2020-07-31             0.000\n",
       "Елабужский р-н         2020-06-30             0.000\n",
       "                       2020-07-31           249.656\n",
       "Заинский р-н           2020-07-31             9.607\n",
       "Зеленодольский р-н     2020-07-31           289.523\n",
       "Камско-Устьинский р-н  2020-07-31             1.380\n",
       "Кукморский р-н         2020-07-31             0.061\n",
       "Лаишевский р-н         2020-07-31            36.526\n",
       "Лениногорский р-н      2020-07-31           365.787\n",
       "Менделеевский р-н      2020-06-30             0.000\n",
       "                       2020-07-31           153.487\n",
       "Мензелинский р-н       2020-07-31             0.000\n",
       "Муслюмовский р-н       2020-07-31            28.286\n",
       "Нижнекамский р-н       2020-04-30             0.000\n",
       "                       2020-06-30             0.000\n",
       "                       2020-07-31           923.817\n",
       "Новошешминский р-н     2020-07-31             0.000\n",
       "Нурлатский р-н         2020-07-31           132.600\n",
       "Пестречинский р-н      2020-07-31            94.090\n",
       "Рыбно-Слободский р-н   2020-07-31             0.000\n",
       "Сабинский р-н          2020-07-31             0.194\n",
       "Сармановский р-н       2020-07-31            36.882\n",
       "Спасский р-н           2020-07-31             0.000\n",
       "Тукаевский р-н         2020-07-31             0.000\n",
       "Чистопольский р-н      2020-06-30             0.000\n",
       "                       2020-07-31            28.849\n",
       "Ютазинский р-н         2020-07-31           101.563\n",
       "г.Казань               2020-01-31             0.000\n",
       "                       2020-05-31             0.000\n",
       "                       2020-06-30             0.000\n",
       "                       2020-07-31         6,827.009\n",
       "г.Набережные Челны     2020-06-30             0.000\n",
       "                       2020-07-31           915.231\n",
       "Name: traffic_volume, dtype: Float64"
      ]
     },
     "execution_count": 52,
     "metadata": {},
     "output_type": "execute_result"
    }
   ],
   "source": [
    "filt_data_dissolution_stat"
   ]
  },
  {
   "cell_type": "code",
   "execution_count": null,
   "id": "d825bae4-7cf0-44b1-a60e-36c739d1959b",
   "metadata": {},
   "outputs": [],
   "source": []
  },
  {
   "cell_type": "code",
   "execution_count": 56,
   "id": "0fd282dc-7f3b-496a-a8bf-8d6b336e2e17",
   "metadata": {},
   "outputs": [],
   "source": [
    "data_sum=data.query(\"date_dissolution != '-'\").agg({'traffic_volume': 'sum'})\n",
    "\n"
   ]
  },
  {
   "cell_type": "code",
   "execution_count": null,
   "id": "691a7476-250f-45f3-add3-063b5f49110c",
   "metadata": {},
   "outputs": [],
   "source": []
  }
 ],
 "metadata": {
  "kernelspec": {
   "display_name": "Python 3 (ipykernel)",
   "language": "python",
   "name": "python3"
  },
  "language_info": {
   "codemirror_mode": {
    "name": "ipython",
    "version": 3
   },
   "file_extension": ".py",
   "mimetype": "text/x-python",
   "name": "python",
   "nbconvert_exporter": "python",
   "pygments_lexer": "ipython3",
   "version": "3.9.9"
  }
 },
 "nbformat": 4,
 "nbformat_minor": 5
}
